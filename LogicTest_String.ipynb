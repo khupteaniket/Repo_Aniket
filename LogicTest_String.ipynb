{
 "cells": [
  {
   "cell_type": "code",
   "execution_count": 3,
   "id": "77bae611",
   "metadata": {},
   "outputs": [
    {
     "name": "stdout",
     "output_type": "stream",
     "text": [
      "Enter Your Name:Aniket\n",
      "Enter Your Alphabet:a\n",
      "1\n"
     ]
    }
   ],
   "source": [
    "# 'New Changes in File' Accept a string from the user, accept a character from the user and count the occurrence of the same.\n",
    "\n",
    "name=input(\"Enter Your Name:\")\n",
    "name=name.lower()\n",
    "c1=input(\"Enter Your Alphabet:\")\n",
    "print(name.count(c1))"
   ]
  },
  {
   "cell_type": "code",
   "execution_count": 7,
   "id": "aa6d732d",
   "metadata": {},
   "outputs": [
    {
     "name": "stdout",
     "output_type": "stream",
     "text": [
      "Enter you Name:Nitin\n",
      "The given name is Palindrome.\n"
     ]
    }
   ],
   "source": [
    "# Accept a string and check if it is a palindrome or not. Example: “NITIN”\n",
    "\n",
    "name=input(\"Enter you Name:\")\n",
    "name=name.lower()\n",
    "temp=name[::-1]\n",
    "if name==temp:\n",
    "    print(\"The given name is Palindrome.\")\n",
    "else:\n",
    "    print(\"Not Palindrome\")"
   ]
  },
  {
   "cell_type": "code",
   "execution_count": 11,
   "id": "50f5e36e",
   "metadata": {},
   "outputs": [
    {
     "name": "stdout",
     "output_type": "stream",
     "text": [
      "Enter your name: Aniket\n",
      "tekinA\n"
     ]
    }
   ],
   "source": [
    "# Accept a string and reverse it.\n",
    "\n",
    "s1=input(\"Enter your name: \")\n",
    "s2=\"\"\n",
    "for i in range(len(s1)):\n",
    "    s2=s2+s1[(len(s1))-(i+1)]\n",
    "print(s2)"
   ]
  },
  {
   "cell_type": "code",
   "execution_count": 12,
   "id": "8dc60635",
   "metadata": {},
   "outputs": [
    {
     "name": "stdout",
     "output_type": "stream",
     "text": [
      "Enter any thought: My name is Aniket\n",
      "4\n"
     ]
    }
   ],
   "source": [
    "# Accept a sentence from the user and count number of words.\n",
    "\n",
    "s1=input(\"Enter any thought: \")\n",
    "l1=s1.split()\n",
    "print(len(l1))"
   ]
  },
  {
   "cell_type": "code",
   "execution_count": 15,
   "id": "c02edd5c",
   "metadata": {},
   "outputs": [
    {
     "name": "stdout",
     "output_type": "stream",
     "text": [
      "Enter your thought: My name is Aniket\n",
      "yM,eman,si,tekinA\n"
     ]
    }
   ],
   "source": [
    "# Accept a sentence from the user and reverse the words in the sentence.\n",
    "\n",
    "s1=input(\"Enter your thought: \")\n",
    "l1=s1.split()\n",
    "l2=[x[::-1] for x in l1]\n",
    "print(\",\".join(l2))"
   ]
  },
  {
   "cell_type": "code",
   "execution_count": 17,
   "id": "1b729d68",
   "metadata": {},
   "outputs": [
    {
     "name": "stdout",
     "output_type": "stream",
     "text": [
      "AniketKhupte\n"
     ]
    }
   ],
   "source": [
    "# Accept two strings from the user and append 1st one with the second one.\n",
    "\n",
    "s1=\"Aniket\"\n",
    "s2=\"Khupte\"\n",
    "print(s1+s2)"
   ]
  },
  {
   "cell_type": "code",
   "execution_count": 20,
   "id": "92ebef48",
   "metadata": {},
   "outputs": [
    {
     "name": "stdout",
     "output_type": "stream",
     "text": [
      "Enter any name: Aniket\n",
      "Enter any name: aniket\n",
      "Same\n"
     ]
    }
   ],
   "source": [
    "# Accept two string and check both are same or not.\n",
    "\n",
    "s1=input(\"Enter any name: \")\n",
    "s2=input(\"Enter any name: \")\n",
    "if s1.lower()==s2.lower():\n",
    "    print(\"Same\")\n",
    "else:\n",
    "    print(\"Not Same\")"
   ]
  },
  {
   "cell_type": "code",
   "execution_count": 26,
   "id": "312c3937",
   "metadata": {},
   "outputs": [
    {
     "name": "stdout",
     "output_type": "stream",
     "text": [
      "Enter any five names: \"Sanket\",\"Akshay\",\"Zero\"\n",
      "['Akshay', 'Sanket', 'Zero']\n",
      "Enter any name: Akshay\n",
      "Present\n"
     ]
    }
   ],
   "source": [
    "# Accept 5 names from the user and print them in ascending order. Accept a name from the user and check that\n",
    "# name is there in array or not.\n",
    "\n",
    "l1=eval(input(\"Enter any five names: \"))\n",
    "print(sorted(l1))\n",
    "name=input(\"Enter any name: \")\n",
    "if name in l1:\n",
    "    print(\"Present\")\n",
    "else:\n",
    "    print(\"Not Present\")"
   ]
  },
  {
   "cell_type": "code",
   "execution_count": 29,
   "id": "a6474d2e",
   "metadata": {},
   "outputs": [
    {
     "name": "stdout",
     "output_type": "stream",
     "text": [
      "Enter any name: Aniket\n",
      "Enter any alphabet: A\n",
      "niket\n"
     ]
    }
   ],
   "source": [
    "# Accept a string accept a character and delete all occurrence of that character.\n",
    "\n",
    "s1=input(\"Enter any name: \")\n",
    "s2=\"\"\n",
    "c1=input(\"Enter any alphabet: \")\n",
    "for i in s1:\n",
    "    if c1!=i:\n",
    "        s2=s2+i\n",
    "print(s2)"
   ]
  }
 ],
 "metadata": {
  "kernelspec": {
   "display_name": "Python 3 (ipykernel)",
   "language": "python",
   "name": "python3"
  },
  "language_info": {
   "codemirror_mode": {
    "name": "ipython",
    "version": 3
   },
   "file_extension": ".py",
   "mimetype": "text/x-python",
   "name": "python",
   "nbconvert_exporter": "python",
   "pygments_lexer": "ipython3",
   "version": "3.9.12"
  }
 },
 "nbformat": 4,
 "nbformat_minor": 5
}
